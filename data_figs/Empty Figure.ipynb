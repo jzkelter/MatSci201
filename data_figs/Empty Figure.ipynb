{
 "cells": [
  {
   "cell_type": "code",
   "execution_count": 2,
   "id": "fa516683",
   "metadata": {},
   "outputs": [],
   "source": [
    "import numpy as np\n",
    "import seaborn as sns\n",
    "import matplotlib.pyplot as plt\n"
   ]
  },
  {
   "cell_type": "code",
   "execution_count": 53,
   "id": "bd2afea4",
   "metadata": {},
   "outputs": [],
   "source": [
    "plt.rcParams['font.family'] = 'cmr10'  # Change to your preferred font\n",
    "plt.rcParams['axes.formatter.use_mathtext'] = True\n",
    "plt.rcParams['svg.fonttype'] = 'none'\n",
    "plt.rcParams['font.size'] = 14  # Change to your preferred size"
   ]
  },
  {
   "cell_type": "code",
   "execution_count": 54,
   "id": "d7689e19",
   "metadata": {},
   "outputs": [],
   "source": [
    "# Create an empty plot\n",
    "fig, ax = plt.subplots()\n",
    "\n",
    "# Set the axis ranges\n",
    "ax.set_xlim(0, 100)\n",
    "ax.set_ylim(0, 100)\n",
    "\n",
    "# Set the axis ticks\n",
    "ax.set_xticks(range(0, 120, 20))\n",
    "ax.set_yticks(range(0, 120, 20))\n",
    "\n",
    "\n",
    "# Enable the grid\n",
    "ax.grid(True, which='both', linestyle='--', linewidth=0.5)\n",
    "\n",
    "# Customize the grid to align with ticks\n",
    "ax.grid(which='major', color='gray', linestyle='-', linewidth=0.7)\n",
    "ax.minorticks_on()  # Enable minor ticks if needed\n",
    "ax.grid(which='minor', color='gray', linestyle=':', linewidth=0.5)\n",
    "\n",
    "\n",
    "# Set secondary x-axis labels\n",
    "# ax2 = ax.secondary_xaxis('bottom')\n",
    "# ax2.set_xticks(range(100, 0, 20))\n",
    "# ax2.set_xticklabels([f'S{i}' for i in range(11)])\n",
    "\n",
    "ax.set_xlabel(\"Sugar\")\n",
    "ax.set_ylabel(\"Temperature ($\\degree$C)\")\n",
    "\n",
    "\n",
    "# Display the plot\n",
    "fig.canvas.draw()\n",
    "plt.savefig('empty_figure.svg', format='svg')\n",
    "plt.close(fig)\n"
   ]
  },
  {
   "cell_type": "code",
   "execution_count": null,
   "id": "5df56bcc",
   "metadata": {},
   "outputs": [],
   "source": []
  },
  {
   "cell_type": "code",
   "execution_count": null,
   "id": "66d235e6",
   "metadata": {},
   "outputs": [],
   "source": []
  }
 ],
 "metadata": {
  "kernelspec": {
   "display_name": "Python 3 (ipykernel)",
   "language": "python",
   "name": "python3"
  },
  "language_info": {
   "codemirror_mode": {
    "name": "ipython",
    "version": 3
   },
   "file_extension": ".py",
   "mimetype": "text/x-python",
   "name": "python",
   "nbconvert_exporter": "python",
   "pygments_lexer": "ipython3",
   "version": "3.10.11"
  }
 },
 "nbformat": 4,
 "nbformat_minor": 5
}
